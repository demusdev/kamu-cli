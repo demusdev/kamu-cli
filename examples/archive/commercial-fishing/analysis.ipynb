{
 "cells": [
  {
   "cell_type": "code",
   "execution_count": null,
   "id": "2e16a22e",
   "metadata": {},
   "outputs": [],
   "source": [
    "%load_ext kamu"
   ]
  },
  {
   "cell_type": "code",
   "execution_count": null,
   "id": "f0d0f5b5",
   "metadata": {},
   "outputs": [],
   "source": [
    "%import_dataset acme.fishing.co/vessels.gps --alias gps\n",
    "%import_dataset acme.fishing.co/vessels.trawl --alias trawl\n",
    "%import_dataset acme.fishing.co/vessels.fuel --alias fuel\n",
    "%import_dataset acme.fishing.co/vessels.location-annotated --alias loc\n",
    "%import_dataset globalfishingwatch.org/protected-areas --alias areas"
   ]
  },
  {
   "cell_type": "code",
   "execution_count": null,
   "id": "c72eb76b",
   "metadata": {},
   "outputs": [],
   "source": [
    "%%local\n",
    "import os\n",
    "import pandas as pd\n",
    "import plotly.graph_objects as go\n",
    "import plotly.express as px\n",
    "from mapboxgl.viz import *\n",
    "from mapboxgl.utils import *\n",
    "from utils.plotting import *\n",
    "\n",
    "# Must be a public token, starting with `pk`\n",
    "token = os.getenv('MAPBOX_ACCESS_TOKEN')\n",
    "\n",
    "mapbox_style = 'mapbox://styles/mapbox/streets-v11'"
   ]
  },
  {
   "cell_type": "markdown",
   "id": "0da3433b",
   "metadata": {},
   "source": [
    "# Vessel Activity"
   ]
  },
  {
   "cell_type": "code",
   "execution_count": null,
   "id": "c6d763c4",
   "metadata": {},
   "outputs": [],
   "source": [
    "%%sql -o gps -q\n",
    "select\n",
    "    event_time,\n",
    "    vessel_name,\n",
    "    longitude,\n",
    "    latitude,\n",
    "    is_trawling\n",
    "from loc"
   ]
  },
  {
   "cell_type": "code",
   "execution_count": null,
   "id": "e33e0264",
   "metadata": {},
   "outputs": [],
   "source": [
    "%%local\n",
    "fig = go.Figure()\n",
    "\n",
    "for vessel_name in gps['vessel_name'].unique():\n",
    "    df = gps[gps.vessel_name == vessel_name]\n",
    "    fig.add_trace(\n",
    "        go.Scattermapbox(\n",
    "            name=vessel_name,\n",
    "            mode=\"markers+lines\",\n",
    "            lat=df[\"latitude\"],\n",
    "            lon=df[\"longitude\"],\n",
    "        ),\n",
    "    )\n",
    "\n",
    "fig.update_layout(\n",
    "    height=700,\n",
    "    margin={\"r\":0,\"t\":0,\"l\":0,\"b\":0},\n",
    "    hovermode='closest',\n",
    "    mapbox=dict(\n",
    "        style=mapbox_style,\n",
    "        accesstoken=token,\n",
    "        bearing=0,\n",
    "        center=go.layout.mapbox.Center(lat=51, lon=2),\n",
    "        pitch=0,\n",
    "        zoom=7,\n",
    "    ),\n",
    "    legend=dict(\n",
    "        yanchor=\"top\",\n",
    "        y=0.99,\n",
    "        xanchor=\"left\",\n",
    "        x=0.01\n",
    "    )\n",
    ")\n",
    "\n",
    "fig.show()\n"
   ]
  },
  {
   "cell_type": "markdown",
   "id": "cf09bcf2",
   "metadata": {},
   "source": [
    "# Protected Marine Areas"
   ]
  },
  {
   "cell_type": "code",
   "execution_count": null,
   "id": "36b1576b",
   "metadata": {},
   "outputs": [],
   "source": [
    "%%sql -o areas -q\n",
    "select\n",
    "    geometry,\n",
    "    date,\n",
    "    wdpa_pid,\n",
    "    gis_area\n",
    "from areas\n",
    "-- NOTE: this is a temporary hack due to upstream Spark issue: https://issues.apache.org/jira/browse/SPARK-47150\n",
    "order by len(geometry)\n",
    "limit 5500"
   ]
  },
  {
   "cell_type": "code",
   "execution_count": null,
   "id": "dd5b19d2",
   "metadata": {},
   "outputs": [],
   "source": [
    "%%local\n",
    "viz = ChoroplethViz(\n",
    "    df_to_geojson(areas),\n",
    "    style=mapbox_style,\n",
    "    center=(2, 51),\n",
    "    zoom=5,\n",
    "    access_token=token,\n",
    "    color_property='gis_area',\n",
    "    color_stops=create_color_stops([0], colors=['#0000aa']),\n",
    "    color_default='white',\n",
    "    line_width=0,\n",
    "    opacity=0.4,\n",
    ")\n",
    "\n",
    "viz.show()"
   ]
  },
  {
   "cell_type": "markdown",
   "id": "a4b0802b",
   "metadata": {},
   "source": [
    "# Spatial Queries"
   ]
  },
  {
   "cell_type": "code",
   "execution_count": null,
   "id": "fed89c30",
   "metadata": {},
   "outputs": [],
   "source": [
    "%%sql -o isect_areas -q\n",
    "select\n",
    "    wdpa_pid, \n",
    "    parent_iso, \n",
    "    desig_eng, \n",
    "    name,\n",
    "    gis_area,\n",
    "    geometry\n",
    "from areas where parent_iso in (\"NLD\", \"FRA\", \"DMK\", \"BEL\")"
   ]
  },
  {
   "cell_type": "code",
   "execution_count": null,
   "id": "26809c8f",
   "metadata": {},
   "outputs": [],
   "source": [
    "%%sql -o isect -q\n",
    "select\n",
    "    gps.event_time,\n",
    "    gps.vessel_name,\n",
    "    gps.latitude,\n",
    "    gps.longitude\n",
    "from (\n",
    "    select\n",
    "         event_time, vessel_name, latitude, longitude, st_point(longitude, latitude) as geometry \n",
    "    from loc where is_trawling = 1\n",
    ") gps,\n",
    "(\n",
    "    select\n",
    "        st_geomfromgeojson(geometry) as geometry\n",
    "    from areas where parent_iso = \"NLD\"\n",
    ") areas\n",
    "where st_contains(areas.geometry, gps.geometry)"
   ]
  },
  {
   "cell_type": "code",
   "execution_count": null,
   "id": "bf6b6551",
   "metadata": {},
   "outputs": [],
   "source": [
    "%%local\n",
    "isect_areas_geojson = df_to_geojson(isect_areas)\n",
    "\n",
    "fig = go.Figure()\n",
    "\n",
    "fig.add_trace(go.Choroplethmapbox(\n",
    "    geojson=isect_areas_geojson,\n",
    "    locations=isect_areas.wdpa_pid,\n",
    "    featureidkey=\"properties.wdpa_pid\",\n",
    "    z=isect_areas.gis_area,\n",
    "    colorscale=\"Viridis\",\n",
    "    marker_line_width=0,\n",
    "    marker_opacity=0.1,\n",
    "    text=isect_areas.name,\n",
    "    name=\"Protected Area\",\n",
    "    showscale=False,\n",
    "))\n",
    "\n",
    "for vessel_name in isect['vessel_name'].unique():\n",
    "    df = isect[isect.vessel_name == vessel_name]\n",
    "    fig.add_trace(\n",
    "        go.Scattermapbox(\n",
    "            name=vessel_name,\n",
    "            mode=\"markers+lines\",\n",
    "            lat=df[\"latitude\"],\n",
    "            lon=df[\"longitude\"],\n",
    "        ),\n",
    "    )\n",
    "\n",
    "fig.update_traces(showlegend=False, selector=dict(type='choroplethmapbox'))\n",
    "\n",
    "fig.update_layout(\n",
    "    height=800,\n",
    "    margin={\"r\":0,\"t\":0,\"l\":0,\"b\":0},\n",
    "    mapbox=dict(\n",
    "        style=mapbox_style,\n",
    "        accesstoken=token,\n",
    "        zoom=8,\n",
    "        center={\"lat\": 51.5, \"lon\": 3.5}\n",
    "    ),\n",
    "    legend=dict(\n",
    "        yanchor=\"top\",\n",
    "        y=0.99,\n",
    "        xanchor=\"left\",\n",
    "        x=0.01\n",
    "    )\n",
    ")\n",
    "fig.show()"
   ]
  },
  {
   "cell_type": "code",
   "execution_count": null,
   "id": "abb49f61",
   "metadata": {},
   "outputs": [],
   "source": []
  }
 ],
 "metadata": {
  "kernelspec": {
   "display_name": "PySpark",
   "language": "python",
   "name": "pysparkkernel"
  },
  "language_info": {
   "codemirror_mode": {
    "name": "python",
    "version": 3
   },
   "file_extension": ".py",
   "mimetype": "text/x-python",
   "name": "pyspark",
   "pygments_lexer": "python3"
  }
 },
 "nbformat": 4,
 "nbformat_minor": 5
}

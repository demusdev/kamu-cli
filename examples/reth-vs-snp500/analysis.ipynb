{
 "cells": [
  {
   "cell_type": "code",
   "execution_count": null,
   "metadata": {},
   "outputs": [],
   "source": [
    "%%local\n",
    "import os\n",
    "import numpy as np\n",
    "import xarray as xr\n",
    "import pandas as pd\n",
    "import matplotlib.pyplot as plt\n",
    "import hvplot.pandas  # noqa\n",
    "import hvplot.xarray  # noqa\n",
    "from datetime import datetime\n",
    "pd.set_option('max_colwidth', None)"
   ]
  },
  {
   "cell_type": "code",
   "execution_count": null,
   "metadata": {},
   "outputs": [],
   "source": [
    "%load_ext kamu"
   ]
  },
  {
   "cell_type": "code",
   "execution_count": null,
   "metadata": {},
   "outputs": [],
   "source": [
    "%import_dataset rocketpool.reth.mint-burn"
   ]
  },
  {
   "cell_type": "code",
   "execution_count": null,
   "metadata": {
    "scrolled": false
   },
   "outputs": [],
   "source": [
    "%%sql -o reth_pool -n 999999999999999\n",
    "select \n",
    "    block_time, \n",
    "    case \n",
    "        when event_name = \"TokensMinted\" then \"Mint\"\n",
    "        when event_name = \"TokensBurned\" then \"Burn\"\n",
    "    end as event_name, \n",
    "    avg(eth_amount / amount) as ratio \n",
    "from `rocketpool.reth.mint-burn` \n",
    "group by block_time, event_name\n",
    "order by 1"
   ]
  },
  {
   "cell_type": "code",
   "execution_count": null,
   "metadata": {},
   "outputs": [],
   "source": [
    "%%local\n",
    "reth_pool.hvplot.step(\n",
    "    x=\"block_time\", \n",
    "    by=\"event_name\", \n",
    "    width=900, height=600, \n",
    "    legend='top_left', grid=True, \n",
    "    title=\"ETH : rETH Ratio (Minting and Burning)\",\n",
    ")"
   ]
  },
  {
   "cell_type": "code",
   "execution_count": null,
   "metadata": {},
   "outputs": [],
   "source": [
    "%%local\n",
    "# TODO: Fit a linear regression to get the growth rate"
   ]
  },
  {
   "cell_type": "code",
   "execution_count": null,
   "metadata": {},
   "outputs": [],
   "source": [
    "%import_dataset coinpaprika.tickers.eth-usd.24h-historic"
   ]
  },
  {
   "cell_type": "code",
   "execution_count": null,
   "metadata": {},
   "outputs": [],
   "source": [
    "%%sql -o eth2usd -n 999999999999\n",
    "select * from `coinpaprika.tickers.eth-usd.24h-historic` order by event_time"
   ]
  },
  {
   "cell_type": "code",
   "execution_count": null,
   "metadata": {},
   "outputs": [],
   "source": [
    "%%local\n",
    "eth2usd.hvplot.step(x=\"event_time\", y=\"price\", height=500, width=800)"
   ]
  },
  {
   "cell_type": "code",
   "execution_count": null,
   "metadata": {},
   "outputs": [],
   "source": [
    "%import_dataset account.transactions\n",
    "%import_dataset account.tokens.transfers"
   ]
  },
  {
   "cell_type": "code",
   "execution_count": null,
   "metadata": {},
   "outputs": [],
   "source": [
    "%%sql\n",
    "select * from `account.tokens.transfers`"
   ]
  },
  {
   "cell_type": "code",
   "execution_count": null,
   "metadata": {},
   "outputs": [],
   "source": [
    "%%sql -o reth_tx\n",
    "with \n",
    "\n",
    "tx_fpv as (\n",
    "    select\n",
    "        *,\n",
    "        cast(value as float) / power(10.0, 18) as value_fp\n",
    "    from `account.transactions`\n",
    "),\n",
    "\n",
    "tx_deltas as (\n",
    "    select\n",
    "        *,\n",
    "        case\n",
    "            when to = \"0xeadb3840596cabf312f2bc88a4bb0b93a4e1ff5f\" then value_fp\n",
    "            when from = \"0xeadb3840596cabf312f2bc88a4bb0b93a4e1ff5f\" then -value_fp\n",
    "            else null\n",
    "        end as eth_amount\n",
    "    from tx_fpv\n",
    "),\n",
    "\n",
    "\n",
    "tokens_fpv as (\n",
    "    select\n",
    "        *,\n",
    "        cast(value as float) / power(10.0, token_decimal) as value_fp\n",
    "    from `account.tokens.transfers`\n",
    "),\n",
    "\n",
    "tokens_deltas as (\n",
    "    select\n",
    "        *,\n",
    "        case\n",
    "            when to = \"0xeadb3840596cabf312f2bc88a4bb0b93a4e1ff5f\" then value_fp\n",
    "            when from = \"0xeadb3840596cabf312f2bc88a4bb0b93a4e1ff5f\" then -value_fp\n",
    "            else null\n",
    "        end as token_amount\n",
    "    from tokens_fpv\n",
    "),\n",
    "\n",
    "tokens_eth as (\n",
    "    select\n",
    "        d.block_time,\n",
    "        d.block_number,\n",
    "        d.transaction_hash,\n",
    "        d.token_symbol,\n",
    "        d.token_amount,\n",
    "        t.eth_amount\n",
    "    from tokens_deltas as d\n",
    "    left join tx_deltas as t\n",
    "    on d.transaction_hash = t.transaction_hash\n",
    ")\n",
    "\n",
    "select\n",
    "    block_time, \n",
    "    block_number,\n",
    "    transaction_hash,\n",
    "    token_amount,\n",
    "    sum(token_amount) over (order by block_time) as token_balance,\n",
    "    eth_amount,\n",
    "    sum(eth_amount) over (order by block_time) as eth_balance\n",
    "from tokens_eth\n",
    "where token_symbol = \"rETH\"\n",
    "order by 1"
   ]
  },
  {
   "cell_type": "code",
   "execution_count": null,
   "metadata": {},
   "outputs": [],
   "source": [
    "%%local\n",
    "reth_tx[\"eth_invested\"] = -reth_tx.eth_balance\n",
    "reth_tx.hvplot.step(x=\"block_time\", y=\"eth_invested\", title=\"ETH Invested\")"
   ]
  },
  {
   "cell_type": "code",
   "execution_count": null,
   "metadata": {},
   "outputs": [],
   "source": [
    "%import_dataset account.tokens.investments\n",
    "%import_dataset account.tokens.market-value.reth"
   ]
  },
  {
   "cell_type": "code",
   "execution_count": null,
   "metadata": {},
   "outputs": [],
   "source": [
    "%%sql -o investments -n 99999999\n",
    "select * from `account.tokens.investments`"
   ]
  },
  {
   "cell_type": "code",
   "execution_count": null,
   "metadata": {
    "scrolled": false
   },
   "outputs": [],
   "source": [
    "%%local\n",
    "# TODO: group by day?\n",
    "investments[\n",
    "    investments.token_symbol == \"rETH\"\n",
    "].hvplot.bar(\n",
    "    x=\"block_time\", \n",
    "    y=\"token_amount\", \n",
    "    title=\"rETH Buy/Sell Transactions\",\n",
    ")"
   ]
  },
  {
   "cell_type": "code",
   "execution_count": null,
   "metadata": {},
   "outputs": [],
   "source": [
    "%%sql -o reth_mv\n",
    "select * from `account.tokens.market-value.reth`"
   ]
  },
  {
   "cell_type": "code",
   "execution_count": null,
   "metadata": {},
   "outputs": [],
   "source": [
    "%%local\n",
    "reth_mv.hvplot.line(\n",
    "    x=\"event_time\", \n",
    "    y=[\"token_book_value_eth\", \"token_market_value_eth\"], \n",
    "    legend=\"bottom_right\",\n",
    "    title=\"rETH: Book vs Market Value in ETH\",\n",
    "    height=500, \n",
    "    width=800,\n",
    ")"
   ]
  },
  {
   "cell_type": "code",
   "execution_count": null,
   "metadata": {},
   "outputs": [],
   "source": [
    "%%local\n",
    "reth_mv.hvplot.line(\n",
    "    x=\"event_time\", \n",
    "    y=[\"token_book_value_eth_as_usd\", \"token_market_value_usd\"], \n",
    "    legend=\"bottom_right\",\n",
    "    title=\"rETH: Book vs Market Value in USD\",\n",
    "    height=500, \n",
    "    width=800,\n",
    ")"
   ]
  },
  {
   "cell_type": "code",
   "execution_count": null,
   "metadata": {},
   "outputs": [],
   "source": [
    "%import_dataset alphavantage.tickers.daily.spy\n",
    "%import_dataset account.whatif.reth-vs-snp500.transactions\n",
    "%import_dataset account.whatif.reth-vs-snp500.market-value"
   ]
  },
  {
   "cell_type": "code",
   "execution_count": null,
   "metadata": {},
   "outputs": [],
   "source": [
    "%%sql -o spy_ticks -n 9999999999999\n",
    "select * from `alphavantage.tickers.daily.spy`"
   ]
  },
  {
   "cell_type": "code",
   "execution_count": null,
   "metadata": {},
   "outputs": [],
   "source": [
    "%%local\n",
    "spy_ticks.hvplot.step(\n",
    "    x=\"event_time\", \n",
    "    y=[\"close\"],\n",
    "    title=\"SPY: Daily Close Price in USD\",\n",
    "    height=500, \n",
    "    width=800,\n",
    ")"
   ]
  },
  {
   "cell_type": "code",
   "execution_count": null,
   "metadata": {},
   "outputs": [],
   "source": [
    "%%sql -o alt_mv -n 99999999999\n",
    "select * from `account.whatif.reth-vs-snp500.market-value`"
   ]
  },
  {
   "cell_type": "code",
   "execution_count": null,
   "metadata": {},
   "outputs": [],
   "source": [
    "%%local\n",
    "alt_mv.hvplot.line(\n",
    "    x=\"event_time\", \n",
    "    y=[\"token_book_value_eth_as_usd\", \"token_market_value_usd\", \"alt_spy_market_value_usd\"], \n",
    "    legend=\"bottom_right\",\n",
    "    title=\"rETH vs S&P500\",\n",
    "    height=500, \n",
    "    width=800,\n",
    ")"
   ]
  },
  {
   "cell_type": "code",
   "execution_count": null,
   "metadata": {},
   "outputs": [],
   "source": []
  }
 ],
 "metadata": {
  "kernelspec": {
   "display_name": "PySpark",
   "language": "python",
   "name": "pysparkkernel"
  },
  "language_info": {
   "codemirror_mode": {
    "name": "python",
    "version": 3
   },
   "file_extension": ".py",
   "mimetype": "text/x-python",
   "name": "pyspark",
   "pygments_lexer": "python3"
  }
 },
 "nbformat": 4,
 "nbformat_minor": 4
}
